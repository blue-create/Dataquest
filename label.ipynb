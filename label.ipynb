{
  "nbformat": 4,
  "nbformat_minor": 0,
  "metadata": {
    "colab": {
      "name": "label",
      "provenance": [],
      "collapsed_sections": [],
      "include_colab_link": true
    },
    "kernelspec": {
      "name": "python3",
      "display_name": "Python 3"
    }
  },
  "cells": [
    {
      "cell_type": "markdown",
      "metadata": {
        "id": "view-in-github",
        "colab_type": "text"
      },
      "source": [
        "<a href=\"https://colab.research.google.com/github/blue-create/Dataquest/blob/main/label.ipynb\" target=\"_parent\"><img src=\"https://colab.research.google.com/assets/colab-badge.svg\" alt=\"Open In Colab\"/></a>"
      ]
    },
    {
      "cell_type": "markdown",
      "metadata": {
        "id": "FKLq9ntWGKop"
      },
      "source": [
        "# **Preparation**"
      ]
    },
    {
      "cell_type": "markdown",
      "metadata": {
        "id": "xqqOSnErFifL"
      },
      "source": [
        "As part of the workflow between GitHub and Google Colab, please follow these steps: \n",
        "1. Upload the [data](https://drive.google.com/drive/folders/1ExS7M2OOkbYS5Z5O9pbPbaCpSa0rhGet?usp=sharing) to a folder in your GDrive. \n",
        "2. Mount your GDrive.\n",
        "3. Set the data folder as your present working directory. "
      ]
    },
    {
      "cell_type": "code",
      "metadata": {
        "id": "8-JdJ7tJXPED",
        "colab": {
          "base_uri": "https://localhost:8080/"
        },
        "outputId": "f5cb5b1f-9dee-41db-a5b1-9103c00a8d1c"
      },
      "source": [
        "from google.colab import drive\n",
        "drive.mount('/content/drive')"
      ],
      "execution_count": 1,
      "outputs": [
        {
          "output_type": "stream",
          "text": [
            "Mounted at /content/drive\n"
          ],
          "name": "stdout"
        }
      ]
    },
    {
      "cell_type": "code",
      "metadata": {
        "id": "gyIoA5EkFK8E",
        "colab": {
          "base_uri": "https://localhost:8080/"
        },
        "outputId": "e6d4d969-ca41-479b-df46-83d989741e37"
      },
      "source": [
        "!pwd\n",
        "%cd /content/drive/MyDrive/ThesisAllocationSystem"
      ],
      "execution_count": null,
      "outputs": [
        {
          "output_type": "stream",
          "text": [
            "/content\n",
            "/content/drive/MyDrive/ThesisAllocationSystem\n"
          ],
          "name": "stdout"
        }
      ]
    },
    {
      "cell_type": "code",
      "metadata": {
        "id": "QTp4ZWTpo4sg"
      },
      "source": [
        "import pandas as pd\n",
        "import numpy as np"
      ],
      "execution_count": 4,
      "outputs": []
    },
    {
      "cell_type": "markdown",
      "metadata": {
        "id": "gMN3TWCFre-0"
      },
      "source": [
        "# **Data Labelling: Train**\n",
        "\n",
        "We manually define a dictionary containing a categorical label for each professor, broadly describing their area of research. Thereafter, we integrate these labels into the existing train dataset."
      ]
    },
    {
      "cell_type": "code",
      "metadata": {
        "id": "HJ7u3ZElrdP9"
      },
      "source": [
        "# creating prof/research categorical label\n",
        "domain_dict = {'anheier': 'non_profit',\n",
        "              'bryson': 'technology_governance',\n",
        "              'cis': 'international_security',\n",
        "              'cali': 'international_law',\n",
        "              'cingolani': 'development_studies',              \n",
        "              'costello': 'migration_law',\n",
        "              'clachsland': 'climate_sustainability',\n",
        "              'graf': 'education',\n",
        "              'hallerberg': 'fiscal_governance',\n",
        "              'hammerschmid': 'public_management',\n",
        "              'hassel': 'labour_policy',\n",
        "              'hirth': 'energy_economics',\n",
        "              'hustedt': 'public_administration',\n",
        "              'iacovone': 'development_economics',\n",
        "              'jachtenfuchs': 'european_governance',\n",
        "              'jankin': 'data_science',\n",
        "              'kayser': 'comparative_politics',\n",
        "              'kreyenfeld': 'social_policy',\n",
        "              'mair': 'strategic_management',\n",
        "              'mena': 'organisational_management',              \n",
        "              'mungiu-pippidi': 'democracy_studies',\n",
        "              'munzert': 'political_behaviour',\n",
        "              'patz': 'international_organizations',\n",
        "              'reh': 'european_politics',\n",
        "              'roemmele': 'political_communication',\n",
        "               'shaikh': 'health_economics',\n",
        "               'snower': 'macroeconomics',\n",
        "               'stockmann': 'digital_governance',\n",
        "               'traxler': 'taxation',\n",
        "               'wegrich': 'policy_process'\n",
        "\n",
        "}"
      ],
      "execution_count": 2,
      "outputs": []
    },
    {
      "cell_type": "code",
      "metadata": {
        "colab": {
          "base_uri": "https://localhost:8080/"
        },
        "id": "e3mFJUzgr34u",
        "outputId": "faed2a02-1542-44ca-e944-8c1e069620eb"
      },
      "source": [
        "# Load train data\n",
        "data = pd.read_csv('/content/drive/MyDrive/ThesisAllocationSystem/data_final/train-papers-final.csv', encoding = 'latin1')\n",
        "\n",
        "# Remove FileNames from txt ending\n",
        "data[\"FileName\"] = data[\"FileName\"].str.replace('.txt$', '').str.replace('\\d+', '').str.lower().str.replace('\\W+', '')\n",
        "\n",
        "# Labels\n",
        "print('There are', len(data.FileName.unique()), 'unique labels.\\n')\n",
        "print(data.sample(10))"
      ],
      "execution_count": 39,
      "outputs": [
        {
          "output_type": "stream",
          "text": [
            "There are 30 unique labels.\n",
            "\n",
            "       FileName                                            Content\n",
            "328     hustedt  b'Political Control of Coordination? The Roles...\n",
            "349  kreyenfeld  b\"Changes in union status during the transitio...\n",
            "314      hassel  b\"Microsoft Word - 16 16 Social policy in the ...\n",
            "206  hallerberg  b'City, University of London Institutional Rep...\n",
            "653     munzert  b'LOYAL TO THE GAME? STRATEGIC POLICY REPRESEN...\n",
            "118      bryson  b'Citation for published version:\\nWhitehouse,...\n",
            "363  kreyenfeld  b'Microsoft Word - zff002_inhalt_editorial.doc...\n",
            "656     munzert  b's\\no\\nu\\nr\\nc\\ne\\n:\\n \\nh\\nt\\nt\\np\\ns\\n:\\n/\\...\n",
            "84       bryson  b'Slam the Brakes: Perceptions of Moral Decisi...\n",
            "756   stockmann  b'1 \\n \\n\\n \\n\\n \\n\\n \\n\\nWe Dont Know What We...\n"
          ],
          "name": "stdout"
        }
      ]
    },
    {
      "cell_type": "code",
      "metadata": {
        "colab": {
          "base_uri": "https://localhost:8080/"
        },
        "id": "L8RyLJVQsDGH",
        "outputId": "9c963a21-baad-4fc7-a58d-218768cc2dc6"
      },
      "source": [
        "# Create a domain column to facilitate mapping on dictionary keys and pass labels as value\n",
        "data[\"domain\"] = data[\"FileName\"].map(domain_dict)\n",
        "print(data)"
      ],
      "execution_count": 40,
      "outputs": [
        {
          "output_type": "stream",
          "text": [
            "         FileName  ...             domain\n",
            "0    hammerschmid  ...  public_management\n",
            "1    hammerschmid  ...  public_management\n",
            "2    hammerschmid  ...  public_management\n",
            "3    hammerschmid  ...  public_management\n",
            "4    hammerschmid  ...  public_management\n",
            "..            ...  ...                ...\n",
            "806       wegrich  ...     policy_process\n",
            "807       wegrich  ...     policy_process\n",
            "808       wegrich  ...     policy_process\n",
            "809       wegrich  ...     policy_process\n",
            "810       wegrich  ...     policy_process\n",
            "\n",
            "[811 rows x 3 columns]\n"
          ],
          "name": "stdout"
        }
      ]
    },
    {
      "cell_type": "code",
      "metadata": {
        "colab": {
          "base_uri": "https://localhost:8080/"
        },
        "id": "V61bparZsOGW",
        "outputId": "afe0f78e-e937-4e70-f4b4-c5cb89e347e5"
      },
      "source": [
        "# Create binary dummy one-hot encoder for each research domain label\n",
        "dum_df = pd.get_dummies(data, columns=[\"domain\"])\n",
        "type(dum_df['domain_comparative_politics'].iloc[1])"
      ],
      "execution_count": 26,
      "outputs": [
        {
          "output_type": "execute_result",
          "data": {
            "text/plain": [
              "numpy.uint8"
            ]
          },
          "metadata": {
            "tags": []
          },
          "execution_count": 26
        }
      ]
    },
    {
      "cell_type": "code",
      "metadata": {
        "id": "PmYtmIBMsmFb"
      },
      "source": [
        "# concate the two dataframes \n",
        "data = pd.concat([data.iloc[:,:2], dum_df.iloc[:,2:]], axis = 1)\n",
        "\n",
        "# Save for label extraction\n",
        "data.to_csv('/content/drive/MyDrive/ThesisAllocationSystem/data_final/label_data.csv', index = False)"
      ],
      "execution_count": 27,
      "outputs": []
    },
    {
      "cell_type": "code",
      "metadata": {
        "id": "-HvNan7fprh7"
      },
      "source": [
        "data.drop(['FileName'], inplace=True, axis=1)"
      ],
      "execution_count": 28,
      "outputs": []
    },
    {
      "cell_type": "code",
      "metadata": {
        "id": "OKsy0IgnpzPV",
        "colab": {
          "base_uri": "https://localhost:8080/"
        },
        "outputId": "c031635c-6be2-4479-942d-403188118c69"
      },
      "source": [
        "train_df = pd.DataFrame()\n",
        "train_df['content'] = data['Content']\n",
        "train_df['labels'] = data.iloc[:, 1:].values.tolist()\n",
        "\n",
        "# Check type and content\n",
        "print(train_df.sample(10))\n",
        "print(type(train_df['labels'].iloc[1]))\n",
        "print(type(train_df['labels'].iloc[1][1]))\n",
        "print(train_df.shape)"
      ],
      "execution_count": 29,
      "outputs": [
        {
          "output_type": "stream",
          "text": [
            "                                               content                                             labels\n",
            "78   b'This is a preprint version of our chapter in...  [0, 0, 0, 0, 0, 0, 0, 0, 0, 0, 0, 0, 0, 0, 0, ...\n",
            "295  b'The Politics of Social Pacts\\n\\n\\nThe Politi...  [0, 0, 0, 0, 0, 0, 0, 0, 0, 0, 0, 0, 0, 0, 1, ...\n",
            "171  b'Actors, objectives, context_ A framework of ...  [0, 0, 0, 0, 0, 0, 0, 0, 0, 0, 0, 0, 0, 0, 0, ...\n",
            "75   b\"Microsoft Word - DGHJHW_ClimateChangeConjoin...  [0, 1, 0, 0, 0, 0, 0, 0, 0, 0, 0, 0, 0, 0, 0, ...\n",
            "53   b'A Conservative Revolution final submission\\n...  [0, 1, 0, 0, 0, 0, 0, 0, 0, 0, 0, 0, 0, 0, 0, ...\n",
            "26   b'AUFS\\xc4TZE\\n\\nDOI 10.1007/s41358-016-0070-z...  [0, 0, 0, 0, 0, 0, 0, 0, 0, 0, 0, 0, 0, 0, 0, ...\n",
            "215  b'CESifo Working Paper no. 6228\\n\\n\\neconstor\\...  [0, 0, 0, 0, 0, 0, 0, 0, 0, 1, 0, 0, 0, 0, 0, ...\n",
            "570  b'See discussions, stats, and author profiles ...  [0, 0, 0, 0, 0, 0, 0, 0, 0, 0, 0, 0, 0, 0, 0, ...\n",
            "221  b\"City, University of London Institutional Rep...  [0, 0, 0, 0, 0, 0, 0, 0, 0, 1, 0, 0, 0, 0, 0, ...\n",
            "30   b'German parties and internet campaigning in t...  [0, 0, 0, 0, 0, 0, 0, 0, 0, 0, 0, 0, 0, 0, 0, ...\n",
            "<class 'list'>\n",
            "<class 'int'>\n",
            "(811, 2)\n"
          ],
          "name": "stdout"
        }
      ]
    },
    {
      "cell_type": "code",
      "metadata": {
        "id": "UWRFs0Cmznkn"
      },
      "source": [
        "# Save labeled dataframe as csv \n",
        "train_df.to_csv('/content/drive/MyDrive/ThesisAllocationSystem/data_final/train-papers-label.csv', index = False)"
      ],
      "execution_count": 30,
      "outputs": []
    },
    {
      "cell_type": "markdown",
      "metadata": {
        "id": "-7Fy2h8v71jj"
      },
      "source": [
        "# **Extract labelled data**"
      ]
    },
    {
      "cell_type": "code",
      "metadata": {
        "id": "m182E9zNrPlK"
      },
      "source": [
        "# Import blueprint\n",
        "df_label = pd.read_csv('/content/drive/MyDrive/ThesisAllocationSystem/data_final/label_data.csv', encoding = 'latin1')"
      ],
      "execution_count": 49,
      "outputs": []
    },
    {
      "cell_type": "code",
      "metadata": {
        "id": "GS_FoXIu26Ti"
      },
      "source": [
        "# Filter unique values\n",
        "dat_label = df_label.drop_duplicates('FileName')\n",
        "\n",
        "# Drop content col\n",
        "dat_label.drop(['Content'], inplace = True, axis = 1)\n",
        "\n",
        "# Convert encoded domains to list\n",
        "dat_label['labels'] = dat_label.iloc[:, 1:].values.tolist()"
      ],
      "execution_count": null,
      "outputs": []
    },
    {
      "cell_type": "code",
      "metadata": {
        "id": "GW1LdmkQ2edP",
        "colab": {
          "base_uri": "https://localhost:8080/"
        },
        "outputId": "736053cf-d214-40ac-b101-39309e256b80"
      },
      "source": [
        "# Create df with values \n",
        "label_df = pd.DataFrame()\n",
        "label_df['FileName'] = dat_label['FileName']\n",
        "label_df['labels'] = dat_label['labels']\n",
        "\n",
        "# Check type\n",
        "print(type(label_df))\n",
        "print(type(label_df['labels'].iloc[1]))\n",
        "print(type(label_df['labels'].iloc[1][1]))"
      ],
      "execution_count": 54,
      "outputs": [
        {
          "output_type": "stream",
          "text": [
            "<class 'pandas.core.frame.DataFrame'>\n",
            "<class 'list'>\n",
            "<class 'int'>\n"
          ],
          "name": "stdout"
        }
      ]
    },
    {
      "cell_type": "code",
      "metadata": {
        "id": "9d7CMJY4sQAS"
      },
      "source": [
        "# Save & overwrite old file\n",
        "label_df.to_csv('/content/drive/MyDrive/ThesisAllocationSystem/data_final/label_data.csv', index = False)"
      ],
      "execution_count": 55,
      "outputs": []
    },
    {
      "cell_type": "markdown",
      "metadata": {
        "id": "WgXqHD5eP1n8"
      },
      "source": [
        "# **Data Labelling: Test**\n",
        "\n"
      ]
    },
    {
      "cell_type": "markdown",
      "metadata": {
        "id": "PfwU0NX5QDCy"
      },
      "source": [
        "In this section, we assign the newly created labels to student thesis proposals, either referring to their first or second preference. The finished data set will serve as a validation/test dataset."
      ]
    },
    {
      "cell_type": "code",
      "metadata": {
        "id": "0mW4Pnb-QV4e"
      },
      "source": [
        "# Load test data\n",
        "data_test = pd.read_csv('/content/drive/MyDrive/ThesisAllocationSystem/data_final/test-proposals-final.csv', encoding = 'latin1')"
      ],
      "execution_count": 69,
      "outputs": []
    },
    {
      "cell_type": "code",
      "metadata": {
        "id": "DUkiOytkQiHW"
      },
      "source": [
        "# creating prof/research categorical label\n",
        "domain_dict2 = {'thesisproposal1': 'munzert',\n",
        "                'thesisproposal2': 'traxler',\n",
        "                'thesisproposal3': 'bryson',\n",
        "                'thesisproposal4': 'shaikh',\n",
        "                'thesisproposal5': 'munzert',\n",
        "                'thesisproposal6': 'iacovone'\n",
        "}"
      ],
      "execution_count": 70,
      "outputs": []
    },
    {
      "cell_type": "code",
      "metadata": {
        "id": "X0mXqAxBZpg0",
        "colab": {
          "base_uri": "https://localhost:8080/"
        },
        "outputId": "085f6070-c74c-4c39-d1f3-fba8161ada28"
      },
      "source": [
        "# Clean file names\n",
        "data_test[\"FileName\"] = data_test[\"FileName\"].str.replace(r'.txt$', '').str.lower().str.replace('\\W+', '')\n",
        "\n",
        "# Replace file names with dict key to merge with label df\n",
        "data_test[\"FileName\"] = data_test[\"FileName\"].map(domain_dict2)\n",
        "\n",
        "# Merge with data label & rename col\n",
        "test_df = pd.merge(data_test, label_df, on='FileName')\n",
        "test_df.rename(columns = {'Content': 'text'}, inplace = True)\n",
        "\n",
        "# Remove non-necessary col\n",
        "test_df.drop(['FileName'], inplace = True, axis = 1)\n",
        "\n",
        "# Check type and content\n",
        "test_df.shape\n",
        "print(type(test_df))\n",
        "print(type(test_df['labels'].iloc[1]))\n",
        "print(type(test_df['labels'].iloc[1][1]))"
      ],
      "execution_count": 71,
      "outputs": [
        {
          "output_type": "stream",
          "text": [
            "<class 'pandas.core.frame.DataFrame'>\n",
            "<class 'list'>\n",
            "<class 'int'>\n"
          ],
          "name": "stdout"
        }
      ]
    },
    {
      "cell_type": "code",
      "metadata": {
        "id": "h1zavpTsQnXx"
      },
      "source": [
        "# Save df\n",
        "test_df.to_csv('/content/drive/MyDrive/ThesisAllocationSystem/data_final/test-proposals-label.csv', index = False)"
      ],
      "execution_count": 72,
      "outputs": []
    }
  ]
}